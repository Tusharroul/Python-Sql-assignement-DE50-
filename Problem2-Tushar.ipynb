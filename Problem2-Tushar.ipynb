{
 "cells": [
  {
   "cell_type": "code",
   "execution_count": 1,
   "metadata": {},
   "outputs": [],
   "source": [
    "import pandas as pd\n",
    "import numpy as np\n",
    "import seaborn as sns\n",
    "import matplotlib.pyplot as plt"
   ]
  },
  {
   "cell_type": "code",
   "execution_count": 5,
   "metadata": {},
   "outputs": [],
   "source": [
    "df1 = pd.read_excel(\"D:\\BoardInfinity\\python assignement\\Problem2\\Table1.xlsx\")\n",
    "df2 = pd.read_excel(\"D:\\BoardInfinity\\python assignement\\Problem2\\Table2.xlsx\")"
   ]
  },
  {
   "cell_type": "code",
   "execution_count": 13,
   "metadata": {},
   "outputs": [],
   "source": [
    "df1 = df1.sort_values('CustomerNum')"
   ]
  },
  {
   "cell_type": "code",
   "execution_count": 14,
   "metadata": {},
   "outputs": [],
   "source": [
    "df2 = df2.sort_values('CustomerNum')"
   ]
  },
  {
   "cell_type": "code",
   "execution_count": 47,
   "metadata": {},
   "outputs": [
    {
     "data": {
      "text/html": [
       "<div>\n",
       "<style scoped>\n",
       "    .dataframe tbody tr th:only-of-type {\n",
       "        vertical-align: middle;\n",
       "    }\n",
       "\n",
       "    .dataframe tbody tr th {\n",
       "        vertical-align: top;\n",
       "    }\n",
       "\n",
       "    .dataframe thead th {\n",
       "        text-align: right;\n",
       "    }\n",
       "</style>\n",
       "<table border=\"1\" class=\"dataframe\">\n",
       "  <thead>\n",
       "    <tr style=\"text-align: right;\">\n",
       "      <th></th>\n",
       "      <th>CustomerNum</th>\n",
       "    </tr>\n",
       "  </thead>\n",
       "  <tbody>\n",
       "    <tr>\n",
       "      <th>24</th>\n",
       "      <td>1</td>\n",
       "    </tr>\n",
       "    <tr>\n",
       "      <th>10</th>\n",
       "      <td>2</td>\n",
       "    </tr>\n",
       "    <tr>\n",
       "      <th>13</th>\n",
       "      <td>3</td>\n",
       "    </tr>\n",
       "    <tr>\n",
       "      <th>28</th>\n",
       "      <td>4</td>\n",
       "    </tr>\n",
       "    <tr>\n",
       "      <th>2</th>\n",
       "      <td>5</td>\n",
       "    </tr>\n",
       "  </tbody>\n",
       "</table>\n",
       "</div>"
      ],
      "text/plain": [
       "    CustomerNum\n",
       "24            1\n",
       "10            2\n",
       "13            3\n",
       "28            4\n",
       "2             5"
      ]
     },
     "execution_count": 47,
     "metadata": {},
     "output_type": "execute_result"
    }
   ],
   "source": [
    "df1.head()"
   ]
  },
  {
   "cell_type": "code",
   "execution_count": 180,
   "metadata": {},
   "outputs": [],
   "source": [
    "l=[]\n",
    "m=list(df1['CustomerNum'].values)\n",
    "n=list(df2['CustomerNum'].values)"
   ]
  },
  {
   "cell_type": "code",
   "execution_count": 181,
   "metadata": {},
   "outputs": [
    {
     "name": "stdout",
     "output_type": "stream",
     "text": [
      "[1, 2, 3, 51, 52, 53, 54, 4, 5, 6, 55, 56, 57, 58, 7, 8, 9, 59, 60, 61, 62, 10, 11, 12, 63, 64, 65, 66, 13, 14, 15, 67, 68, 69, 70, 16, 17, 18, 71, 72, 73, 74, 19, 20, 21, 75, 76, 77, 78, 22, 23, 24, 79, 80, 81, 82, 25, 26, 27, 83, 84, 85, 86, 28, 29, 30, 87, 88, 89, 90, 31, 32, 33, 91, 92, 93, 94, 34, 35, 36, 95, 96, 97, 98, 37, 38, 39, 99, 100, 40, 41, 42, 43, 44, 45, 46, 47, 48, 49, 50]\n"
     ]
    }
   ],
   "source": [
    "for i in range(len(n)//4):\n",
    "    # print(list1[i*3],list1[i*3+1],list1[i*3+2])\n",
    "    l.extend((m[i*3],m[i*3+1],m[i*3+2]))\n",
    "    # print(list2[i*4],list2[i*4+1],list2[i*4+2],list2[i*4+3])\n",
    "    l.extend((n[i*4],n[i*4+1],n[i*4+2],n[i*4+3]))\n",
    "\n",
    "i+=1\n",
    "l.extend((m[i*3],m[i*3+1],m[i*3+2]))\n",
    "R=len(n)%4\n",
    "l.extend(n[-R:])\n",
    "l.extend(m[(i+1)*3:])\n",
    "print(l)"
   ]
  },
  {
   "cell_type": "code",
   "execution_count": null,
   "metadata": {},
   "outputs": [],
   "source": []
  }
 ],
 "metadata": {
  "kernelspec": {
   "display_name": "Python 3",
   "language": "python",
   "name": "python3"
  },
  "language_info": {
   "codemirror_mode": {
    "name": "ipython",
    "version": 3
   },
   "file_extension": ".py",
   "mimetype": "text/x-python",
   "name": "python",
   "nbconvert_exporter": "python",
   "pygments_lexer": "ipython3",
   "version": "3.7.6"
  }
 },
 "nbformat": 4,
 "nbformat_minor": 4
}
